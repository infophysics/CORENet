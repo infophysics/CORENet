{
 "cells": [
  {
   "cell_type": "markdown",
   "metadata": {},
   "source": []
  },
  {
   "cell_type": "code",
   "execution_count": 1,
   "metadata": {},
   "outputs": [],
   "source": [
    "import numpy as np\n",
    "import matplotlib.pyplot as plt\n",
    "from matplotlib.lines import Line2D\n",
    "from corenet.utils.analysis import *\n"
   ]
  },
  {
   "cell_type": "code",
   "execution_count": 2,
   "metadata": {},
   "outputs": [],
   "source": [
    "model_folders = [\n",
    "    '/home/ncarrara/physics/corenet_runs_v2/corenet_v2_100_epoch_decoder_dropout_03_100_100_100_100_100_2025.2.12.7.46.31/'\n",
    "]\n",
    "model_files = [\n",
    "    'evaluated_corenet_v2_2025.2.15.16.45.1.npz'\n",
    "]\n",
    "model_names = [\n",
    "    'deep_v2'\n",
    "]"
   ]
  },
  {
   "cell_type": "code",
   "execution_count": 3,
   "metadata": {},
   "outputs": [],
   "source": [
    "f = np.load(model_folders[0] + model_files[0])\n",
    "weak_test = f['weak_test']\n",
    "weak_test[:, 0] = weak_test[:, 0] * (128.09 - 122.09) + 122.09\n",
    "weak_test[:, 1] = weak_test[:, 1] * (0.14 - 0.08) + 0.08\n",
    "gut_test_constraints = f['gut_test_constraints']\n",
    "gut_test_output_constraints = f['gut_test_output_constraints']\n",
    "gut_test_output_susy_weak_params = f['gut_test_output_susy_weak_params']\n",
    "gut_test_output_micromegas_params = f['gut_test_output_micromegas_params']\n",
    "weak_test_output = np.array([\n",
    "    [gut_test_output_susy_weak_params[ii, 1], float(gut_test_output_micromegas_params[ii, 0])]\n",
    "    for ii in range(len(gut_test_output_susy_weak_params))\n",
    "])\n",
    "result = compute_efficiencies(\n",
    "    weak_test, \n",
    "    gut_test_constraints, \n",
    "    gut_test_output_constraints,\n",
    "    bins=25\n",
    ")\n",
    "\n",
    "make_single_model_analysis_plots(\n",
    "    weak_test,\n",
    "    weak_test_output,\n",
    "    gut_test_constraints,\n",
    "    gut_test_output_constraints,\n",
    "    result,\n",
    "    '/home/ncarrara/physics/'\n",
    ")\n"
   ]
  },
  {
   "cell_type": "code",
   "execution_count": null,
   "metadata": {},
   "outputs": [],
   "source": []
  },
  {
   "cell_type": "code",
   "execution_count": null,
   "metadata": {},
   "outputs": [],
   "source": []
  }
 ],
 "metadata": {
  "kernelspec": {
   "display_name": "py311",
   "language": "python",
   "name": "python3"
  },
  "language_info": {
   "codemirror_mode": {
    "name": "ipython",
    "version": 3
   },
   "file_extension": ".py",
   "mimetype": "text/x-python",
   "name": "python",
   "nbconvert_exporter": "python",
   "pygments_lexer": "ipython3",
   "version": "3.11.11"
  }
 },
 "nbformat": 4,
 "nbformat_minor": 2
}
